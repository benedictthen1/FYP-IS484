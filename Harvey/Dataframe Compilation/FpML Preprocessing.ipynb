{
 "cells": [
  {
   "cell_type": "code",
   "execution_count": 2,
   "metadata": {},
   "outputs": [
    {
     "name": "stderr",
     "output_type": "stream",
     "text": [
      "C:\\ProgramData\\Anaconda3\\lib\\site-packages\\ipykernel_launcher.py:12: FutureWarning: pandas.io.json.json_normalize is deprecated, use pandas.json_normalize instead\n",
      "  if sys.path[0] == '':\n",
      "C:\\ProgramData\\Anaconda3\\lib\\site-packages\\ipykernel_launcher.py:18: FutureWarning: pandas.io.json.json_normalize is deprecated, use pandas.json_normalize instead\n",
      "C:\\ProgramData\\Anaconda3\\lib\\site-packages\\ipykernel_launcher.py:23: FutureWarning: pandas.io.json.json_normalize is deprecated, use pandas.json_normalize instead\n",
      "C:\\ProgramData\\Anaconda3\\lib\\site-packages\\ipykernel_launcher.py:30: FutureWarning: pandas.io.json.json_normalize is deprecated, use pandas.json_normalize instead\n",
      "C:\\ProgramData\\Anaconda3\\lib\\site-packages\\ipykernel_launcher.py:44: FutureWarning: pandas.io.json.json_normalize is deprecated, use pandas.json_normalize instead\n"
     ]
    }
   ],
   "source": [
    "import numpy as np\n",
    "import pandas as pd\n",
    "import json\n",
    "from pandas.io.json import json_normalize\n",
    "\n",
    "df = pd.read_json(r'C:\\Users\\Harvey\\Desktop\\FYP-IS484\\Harvey\\Dataframe Compilation\\dump.json')\n",
    "\n",
    "df['account'] = df.account.apply(lambda x: x[0])\n",
    "df['position'] = df.position.apply(lambda x: x[0])\n",
    "data = df.to_json(orient=\"records\")\n",
    "data = json.loads(data)\n",
    "df = json_normalize(data, max_level=1)\n",
    "\n",
    "df['position.scheduledDate'] = df['position.scheduledDate'].apply(lambda x: x[0])\n",
    "df['position.valuation'] = df['position.valuation'].apply(lambda x: x[0])\n",
    "data = df.to_json(orient=\"records\")\n",
    "data = json.loads(data)\n",
    "df = json_normalize(data, max_level=3)\n",
    "\n",
    "df['position.constituent.tradeReference.partyTradeIdentifier'] = df['position.constituent.tradeReference.partyTradeIdentifier'].str.get(0)\n",
    "data = df.to_json(orient=\"records\")\n",
    "data = json.loads(data)\n",
    "df = json_normalize(data, max_level=1)\n",
    "\n",
    "df['position.constituent.holding.underlyingAsset.instrumentId.financialInstrument'] = df['position.constituent.holding.underlyingAsset.instrumentId'].str.get(0)\n",
    "df['position.constituent.holding.underlyingAsset.instrumentId.ticker'] = df['position.constituent.holding.underlyingAsset.instrumentId'].str.get(1)\n",
    "df = df.drop(columns=\"position.constituent.holding.underlyingAsset.instrumentId\")\n",
    "data = df.to_json(orient=\"records\")\n",
    "data = json.loads(data)\n",
    "df = json_normalize(data, max_level=2)\n",
    "df.head(300)\n",
    "\n",
    "df['party.banker'] = df['party'].str.get(0)\n",
    "df['party.ic'] = df['party'].str.get(1)\n",
    "df['party.relationship'] = df['party'].str.get(2)\n",
    "df['party.eg'] = df['party'].str.get(3)\n",
    "df['party.pp'] = df['party'].str.get(4)\n",
    "df['party.client'] = df['party'].str.get(5)\n",
    "df = df.drop(columns=\"party\")\n",
    "df = df.drop(columns=\"position.constituent.holding.underlyingAsset.instrumentId.financialInstrument\")\n",
    "df = df.drop(columns=\"position.constituent.holding.underlyingAsset.instrumentId.ticker\")\n",
    "data = df.to_json(orient=\"records\")\n",
    "data = json.loads(data)\n",
    "df = json_normalize(data, max_level=2)\n",
    "\n",
    "df.to_csv(\"FPML_dump.csv\")"
   ]
  }
 ],
 "metadata": {
  "kernelspec": {
   "display_name": "Python 3",
   "language": "python",
   "name": "python3"
  },
  "language_info": {
   "codemirror_mode": {
    "name": "ipython",
    "version": 3
   },
   "file_extension": ".py",
   "mimetype": "text/x-python",
   "name": "python",
   "nbconvert_exporter": "python",
   "pygments_lexer": "ipython3",
   "version": "3.6.8"
  }
 },
 "nbformat": 4,
 "nbformat_minor": 2
}
